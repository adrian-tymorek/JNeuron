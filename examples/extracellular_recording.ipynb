{
 "cells": [
  {
   "cell_type": "markdown",
   "metadata": {},
   "source": [
    "# Extracellular Recording\n",
    "\n",
    "Extracellular potentials created by given neural networks can be determined at arbitary positions in 3D space. With large neural networks, the potential at a given point is a reasonable approximation to spikes and local field potentials with realistic physiological noise models."
   ]
  },
  {
   "cell_type": "markdown",
   "metadata": {},
   "source": [
    "## Simulation 1: Grid of extracellular potentials from a single neuron"
   ]
  },
  {
   "cell_type": "code",
   "execution_count": null,
   "metadata": {
    "collapsed": false
   },
   "outputs": [],
   "source": [
    "using JNeuron, PyPlot;\n",
    "\n",
    "#Load 3D Neurolucida file\n",
    "myimport=input(\"./data/cell2.asc\");\n",
    "\n",
    "#Generate instance of neuron type with appropriate sections from 3D data\n",
    "blank_neuron=instantiate(myimport);\n",
    "\n",
    "#Create segments based on lambda rule\n",
    "set_nsegs!(blank_neuron);\n",
    "\n",
    "#add HH and Passive to Soma and Axon, Passive to basal and apical Dendrites\n",
    "myneuron=add(blank_neuron,(HH(),Passive()),(HH(),Passive()),Passive(),Passive());\n",
    "\n",
    "#Create network with neurons and simulation stop time of 15.0 ms\n",
    "mynetwork=Network(myneuron,6.0);\n",
    "\n",
    "#Add electrodes at grid locations\n",
    "for x in 0.0:250.0:1000.0\n",
    "    for y in -1000.0:250.0:1500.0\n",
    "        \n",
    "        #Create electrode and add it to the network\n",
    "        electrode=Extracellular([x,y,0.0]);\n",
    "        add!(mynetwork,electrode);\n",
    "        \n",
    "    end\n",
    "end\n",
    "\n",
    "#Create intracellular stimulation at soma and add it to the network\n",
    "mystim=Stim(5.0,1,1,924,1.0,2.0)\n",
    "add!(mynetwork,mystim)"
   ]
  },
  {
   "cell_type": "code",
   "execution_count": null,
   "metadata": {
    "collapsed": true
   },
   "outputs": [],
   "source": [
    "run!(mynetwork);"
   ]
  },
  {
   "cell_type": "code",
   "execution_count": null,
   "metadata": {
    "collapsed": false
   },
   "outputs": [],
   "source": [
    "#Plot 3D structure of cell\n",
    "for i=1:length(myimport.sections)\n",
    "    plot(myimport.sections[i].raw[:,1],myimport.sections[i].raw[:,2],color=\"black\")\n",
    "end\n",
    "\n",
    "#Plot extracellular potentials at appropriate locations\n",
    "for i=1:length(mynetwork.extra)\n",
    "    ex=mynetwork.extra[i]\n",
    "    xs=(ex.xyz[1]-round(Int,length(ex.v)/2)):1.0:(ex.xyz[1]+round(Int,length(ex.v)/2))\n",
    "    ys=ex.xyz[2]\n",
    "    plot(xs,ex.v.*2000+ys, color=\"blue\",alpha=maximum(abs(ex.v))*3)\n",
    "end"
   ]
  },
  {
   "cell_type": "markdown",
   "metadata": {},
   "source": [
    "## Simulation 2: Grid of extracellular potentials from multiple neurons"
   ]
  },
  {
   "cell_type": "code",
   "execution_count": null,
   "metadata": {
    "collapsed": false
   },
   "outputs": [],
   "source": [
    "using JNeuron, PyPlot, PyCall;\n",
    "@pyimport matplotlib.collections as C\n",
    "\n",
    "#Load 3D Neurolucida file\n",
    "myimport=input(\"./data/cell2.asc\");\n",
    "\n",
    "#Generate instance of neuron type with appropriate sections from 3D data\n",
    "blank_neuron=instantiate(myimport);\n",
    "\n",
    "#Create segments based on lambda rule\n",
    "set_nsegs!(blank_neuron);\n",
    "\n",
    "#add HH and Passive to Soma and Axon, Passive to basal and apical Dendrites\n",
    "myneuron1=add(blank_neuron,(HH(),Passive()),(HH(),Passive()),Passive(),Passive());\n",
    "\n",
    "myneuron2=deepcopy(myneuron1)\n",
    "JNeuron.translate3d!(myneuron2,400.0,-1000.0,0.0)\n",
    "JNeuron.randomize_shape!(myneuron2)\n",
    "\n",
    "myneuron3=deepcopy(myneuron1)\n",
    "JNeuron.translate3d!(myneuron3,-400.0,-1000.0,0.0)\n",
    "JNeuron.randomize_shape!(myneuron3)\n",
    "\n",
    "#Create network with neurons and simulation stop time of 15.0 ms\n",
    "mynetwork=Network([myneuron1,myneuron2,myneuron3],6.0);\n",
    "\n",
    "#Add electrodes at grid locations\n",
    "for x in 0.0:250.0:1500.0\n",
    "    for y in -1500.0:250.0:1500.0\n",
    "        \n",
    "        #Create electrode and add it to the network\n",
    "        electrode=Extracellular([x,y,0.0]);\n",
    "        add!(mynetwork,electrode);\n",
    "        \n",
    "    end\n",
    "end\n",
    "\n",
    "#Create intracellular stimulation at soma and add it to the network\n",
    "mystim=Stim(5.0,1,1,924,1.0,2.0)\n",
    "add!(mynetwork,mystim)\n",
    "\n",
    "mystim=Stim(5.0,1,2,924,2.0,3.0)\n",
    "add!(mynetwork,mystim)\n",
    "\n",
    "mystim=Stim(5.0,1,2,924,3.0,4.0)\n",
    "add!(mynetwork,mystim)"
   ]
  },
  {
   "cell_type": "code",
   "execution_count": null,
   "metadata": {
    "collapsed": true
   },
   "outputs": [],
   "source": [
    "run!(mynetwork);"
   ]
  },
  {
   "cell_type": "code",
   "execution_count": null,
   "metadata": {
    "collapsed": false
   },
   "outputs": [],
   "source": [
    "#Plot 3D structure of cell\n",
    "(x1,y1)=JNeuron.plot_arrays(myneuron1)\n",
    "(x2,y2)=JNeuron.plot_arrays(myneuron2)\n",
    "(x3,y3)=JNeuron.plot_arrays(myneuron3)\n",
    "\n",
    "for i=1:length(x1)\n",
    "    plot(x1[i],y1[i],color=\"black\")\n",
    "end\n",
    "for i=1:length(x2)\n",
    "    plot(x2[i],y2[i],color=\"black\")\n",
    "end\n",
    "for i=1:length(x3)\n",
    "    plot(x3[i],y3[i],color=\"black\")\n",
    "end\n",
    "\n",
    "#Plot extracellular potentials at appropriate locations\n",
    "for i=1:length(mynetwork.extra)\n",
    "    ex=mynetwork.extra[i]\n",
    "    xs=(ex.xyz[1]-round(Int,length(ex.v)/2)):1.0:(ex.xyz[1]+round(Int,length(ex.v)/2))\n",
    "    ys=ex.xyz[2]\n",
    "    plot(xs,ex.v.*2000+ys, color=\"blue\",alpha=maximum(abs(ex.v))*3)\n",
    "end"
   ]
  },
  {
   "cell_type": "code",
   "execution_count": null,
   "metadata": {
    "collapsed": true
   },
   "outputs": [],
   "source": []
  }
 ],
 "metadata": {
  "kernelspec": {
   "display_name": "Julia 0.4.2-pre",
   "language": "julia",
   "name": "julia-0.4"
  },
  "language_info": {
   "file_extension": ".jl",
   "mimetype": "application/julia",
   "name": "julia",
   "version": "0.4.3"
  }
 },
 "nbformat": 4,
 "nbformat_minor": 0
}
