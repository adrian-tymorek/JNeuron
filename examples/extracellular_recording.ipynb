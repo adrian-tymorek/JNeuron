{
 "cells": [
  {
   "cell_type": "markdown",
   "metadata": {},
   "source": [
    "# Extracellular Recording\n",
    "\n",
    "Extracellular potentials created by given neural networks can be determined at arbitary positions in 3D space. With large neural networks, the potential at a given point is a reasonable approximation to spikes and local field potentials with realistic physiological noise models."
   ]
  },
  {
   "cell_type": "markdown",
   "metadata": {},
   "source": [
    "## Simulation 1: Grid of extracellular potentials from a single neuron"
   ]
  },
  {
   "cell_type": "code",
   "execution_count": null,
   "metadata": {
    "collapsed": false
   },
   "outputs": [],
   "source": [
    "using JNeuron, PyPlot, PyCall;\n",
    "@pyimport matplotlib.collections as C\n",
    "\n",
    "#Load 3D Neurolucida file\n",
    "myimport=input(\"./data/cell2.asc\");\n",
    "\n",
    "#Generate instance of neuron type with appropriate sections from 3D data\n",
    "blank_neuron=instantiate(myimport);\n",
    "\n",
    "#Create segments based on lambda rule\n",
    "set_nsegs!(blank_neuron);\n",
    "\n",
    "#add HH and Passive to Soma and Axon, Passive to basal and apical Dendrites\n",
    "myneuron=add(blank_neuron,(HH(),Passive()));\n",
    "\n",
    "#Create network with neurons and simulation stop time of 15.0 ms\n",
    "mynetwork=Network(myneuron,6.0);\n",
    "\n",
    "#Add electrodes at grid locations\n",
    "for x in 0.0:250.0:1000.0\n",
    "    for y in -1000.0:250.0:1500.0\n",
    "        \n",
    "        #Create electrode and add it to the network\n",
    "        electrode=Extracellular([x,y,0.0]);\n",
    "        add!(mynetwork,electrode);\n",
    "        \n",
    "    end\n",
    "end\n",
    "\n",
    "#Create intracellular stimulation at soma and add it to the network\n",
    "mystim=Stim(5.0,1,1,924,1.0,2.0)\n",
    "add!(mynetwork,mystim)\n",
    "\n",
    "run!(mynetwork, true);"
   ]
  },
  {
   "cell_type": "code",
   "execution_count": null,
   "metadata": {
    "collapsed": false
   },
   "outputs": [],
   "source": [
    "xy1=JNeuron.plot_arrays(myneuron)\n",
    "\n",
    "c1=C.LineCollection(xy1,color=\"gray\",linewidth=2.0, alpha=0.7)\n",
    "\n",
    "w=Array(Array{Float64,2},length(mynetwork.extra))\n",
    "rgb=Array(Array{Float64,1},length(mynetwork.extra))\n",
    "\n",
    "for i=1:length(mynetwork.extra)\n",
    "    ex=mynetwork.extra[i]\n",
    "    xs=(ex.xyz[1]-round(Int,length(ex.v)/2)):1.0:(ex.xyz[1]+round(Int,length(ex.v)/2))\n",
    "    ys=ex.xyz[2]\n",
    "    if maximum(abs(ex.v))>.01\n",
    "        w[i]=hcat(xs,ex.v.*3000+ys)\n",
    "        rgb[i]=[1; 0; 0]\n",
    "    elseif maximum(abs(ex.v))>.005\n",
    "        w[i]=hcat(xs,ex.v.*6000+ys)\n",
    "        rgb[i]=[0; 0; 1]\n",
    "    else\n",
    "        w[i]=hcat(xs,ex.v.*9000+ys)\n",
    "        rgb[i]=[1; 0; 1]\n",
    "    end\n",
    "end\n",
    "\n",
    "c2=C.LineCollection(w,color=rgb,alpha=.7)\n",
    "\n",
    "fig,ax=subplots(1,1)\n",
    "ax[:add_collection](c1)\n",
    "ax[:add_collection](c2)\n",
    "ax[:set_xlim]([-250.0, 1750.0])\n",
    "ax[:set_ylim]([-1850.0, 1650.0])\n",
    "\n",
    "ax[:spines][\"top\"][:set_visible](false)\n",
    "ax[:spines][\"right\"][:set_visible](false)\n",
    "ax[:spines][\"left\"][:set_visible](false)\n",
    "ax[:spines][\"bottom\"][:set_visible](false)\n",
    "\n",
    "ax[:set_xticks]([])\n",
    "ax[:set_yticks]([])"
   ]
  },
  {
   "cell_type": "markdown",
   "metadata": {},
   "source": [
    "## Simulation 2: Grid of extracellular potentials from multiple neurons"
   ]
  },
  {
   "cell_type": "code",
   "execution_count": null,
   "metadata": {
    "collapsed": true
   },
   "outputs": [],
   "source": [
    "using JNeuron, PyPlot, PyCall;\n",
    "@pyimport matplotlib.collections as C\n",
    "\n",
    "#Load 3D Neurolucida file\n",
    "myimport=input(\"./data/cell2.asc\");\n",
    "\n",
    "#Generate instance of neuron type with appropriate sections from 3D data\n",
    "blank_neuron=instantiate(myimport);\n",
    "\n",
    "#Create segments based on lambda rule\n",
    "set_nsegs!(blank_neuron);\n",
    "\n",
    "#add HH and Passive to Soma and Axon, Passive to basal and apical Dendrites\n",
    "myneuron1=add(blank_neuron,(HH(),Passive()),(HH(),Passive()),Passive(),Passive());\n",
    "\n",
    "myneuron2=deepcopy(myneuron1)\n",
    "JNeuron.translate3d!(myneuron2,400.0,-1000.0,0.0)\n",
    "JNeuron.randomize_shape!(myneuron2)\n",
    "\n",
    "myneuron3=deepcopy(myneuron1)\n",
    "JNeuron.translate3d!(myneuron3,-400.0,-1000.0,0.0)\n",
    "JNeuron.randomize_shape!(myneuron3)\n",
    "\n",
    "#Create network with neurons and simulation stop time of 15.0 ms\n",
    "mynetwork=Network([myneuron1,myneuron2,myneuron3],6.0);\n",
    "\n",
    "#Add electrodes at grid locations\n",
    "for x in 0.0:250.0:1500.0\n",
    "    for y in -1500.0:250.0:1500.0\n",
    "        \n",
    "        #Create electrode and add it to the network\n",
    "        electrode=Extracellular([x,y,0.0]);\n",
    "        add!(mynetwork,electrode);\n",
    "        \n",
    "    end\n",
    "end\n",
    "\n",
    "#Create intracellular stimulation at soma and add it to the network\n",
    "mystim=Stim(5.0,1,1,924,1.0,2.0)\n",
    "add!(mynetwork,mystim)\n",
    "\n",
    "mystim=Stim(5.0,1,2,924,2.0,3.0)\n",
    "add!(mynetwork,mystim)\n",
    "\n",
    "mystim=Stim(5.0,1,2,924,3.0,4.0)\n",
    "add!(mynetwork,mystim)\n",
    "\n",
    "run!(mynetwork);"
   ]
  },
  {
   "cell_type": "code",
   "execution_count": null,
   "metadata": {
    "collapsed": false
   },
   "outputs": [],
   "source": [
    "#Plot 3D structure of cell\n",
    "xy1=JNeuron.plot_arrays(myneuron1)\n",
    "xy2=JNeuron.plot_arrays(myneuron2)\n",
    "xy3=JNeuron.plot_arrays(myneuron3)\n",
    "\n",
    "c1=C.LineCollection(xy1,color=\"gray\",linewidth=2.0,alpha=.7)\n",
    "c2=C.LineCollection(xy2,color=\"gray\",linewidth=2.0,alpha=.7)\n",
    "c3=C.LineCollection(xy3,color=\"gray\",linewidth=2.0,alpha=.7)\n",
    "\n",
    "w=Array(Array{Float64,2},length(mynetwork.extra))\n",
    "alpha=zeros(Float64,length(mynetwork.extra))\n",
    "\n",
    "for i=1:length(mynetwork.extra)\n",
    "    ex=mynetwork.extra[i]\n",
    "    xs=(ex.xyz[1]-round(Int,length(ex.v)/2)):1.0:(ex.xyz[1]+round(Int,length(ex.v)/2))\n",
    "    ys=ex.xyz[2]\n",
    "    w[i]=hcat(xs,ex.v.*1900+ys)\n",
    "    alpha[i]=maximum(abs(ex.v))*3\n",
    "end\n",
    "\n",
    "c4=C.LineCollection(w,color=\"blue\",alpha=.7)\n",
    "\n",
    "fig,ax=subplots(1,1)\n",
    "ax[:add_collection](c1)\n",
    "ax[:add_collection](c2)\n",
    "ax[:add_collection](c3)\n",
    "ax[:add_collection](c4)\n",
    "ax[:set_xlim]([-250.0, 1750.0])\n",
    "ax[:set_ylim]([-1850.0, 1650.0])\n",
    "\n",
    "ax[:spines][\"top\"][:set_visible](false)\n",
    "ax[:spines][\"right\"][:set_visible](false)\n",
    "ax[:spines][\"left\"][:set_visible](false)\n",
    "ax[:spines][\"bottom\"][:set_visible](false)\n",
    "\n",
    "ax[:set_xticks]([])\n",
    "ax[:set_yticks]([])"
   ]
  },
  {
   "cell_type": "code",
   "execution_count": null,
   "metadata": {
    "collapsed": false
   },
   "outputs": [],
   "source": [
    "plot(mynetwork.extra[30].v)"
   ]
  },
  {
   "cell_type": "code",
   "execution_count": null,
   "metadata": {
    "collapsed": true
   },
   "outputs": [],
   "source": []
  }
 ],
 "metadata": {
  "kernelspec": {
   "display_name": "Julia 0.4.4-pre",
   "language": "julia",
   "name": "julia-0.4"
  },
  "language_info": {
   "file_extension": ".jl",
   "mimetype": "application/julia",
   "name": "julia",
   "version": "0.4.4"
  }
 },
 "nbformat": 4,
 "nbformat_minor": 0
}
