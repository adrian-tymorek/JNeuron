{
 "cells": [
  {
   "cell_type": "code",
   "execution_count": null,
   "metadata": {
    "collapsed": false
   },
   "outputs": [],
   "source": [
    "using JNeuron, PyPlot"
   ]
  },
  {
   "cell_type": "code",
   "execution_count": null,
   "metadata": {
    "collapsed": true
   },
   "outputs": [],
   "source": [
    "#Load 3D Neurolucida file\n",
    "myimport=input(\"./data/cell2.asc\");"
   ]
  },
  {
   "cell_type": "code",
   "execution_count": null,
   "metadata": {
    "collapsed": false
   },
   "outputs": [],
   "source": [
    "#Plot 3D structure of cell\n",
    "for i=1:length(myimport.sections)\n",
    "    plot(myimport.sections[i].raw[:,1],myimport.sections[i].raw[:,2],color=\"blue\")\n",
    "end"
   ]
  },
  {
   "cell_type": "code",
   "execution_count": null,
   "metadata": {
    "collapsed": false
   },
   "outputs": [],
   "source": [
    "#Generate instance of neuron type with appropriate sections from 3D data\n",
    "blank_neuron=instantiate(myimport);\n",
    "\n",
    "#Create segments based on lambda rule\n",
    "set_nsegs!(blank_neuron);\n",
    "\n",
    "#add Hodgkin-Huxley channels to all segments\n",
    "myneuron1=add(blank_neuron,[HH()]);\n",
    "\n",
    "#add Hodgkin-Huxley and Passive channels to all segments\n",
    "myneuron2=add(blank_neuron,[HH(),Passive()]);\n",
    "\n",
    "#add HH and Passive to Soma and Axon, Passive to basal and apical Dendrites\n",
    "myneuron3=add(blank_neuron,Array[[HH(),Passive()],[HH(),Passive()],[Passive()],[Passive()]]);\n",
    "\n",
    "#Create network with neurons and simulation stop time of 100.0 ms\n",
    "mynetwork=Network([myneuron1,myneuron2,myneuron3],100.0)\n",
    "\n",
    "#Create electrode and add it to the network\n",
    "electrode=Extracellular([0.0,0.0,0.0]);\n",
    "add!(mynetwork,electrode);\n",
    "\n",
    "#Create intracellular stimulation and add it to the network\n",
    "mystim=Stim(2.0,1,1,40,1.0,2.0)\n",
    "add!(mynetwork,mystim)\n",
    "\n",
    "#Create intracellular electrode and add it to the network\n",
    "myintra=Intracellular(1,1,100)\n",
    "add!(mynetwork,myintra);"
   ]
  },
  {
   "cell_type": "code",
   "execution_count": null,
   "metadata": {
    "collapsed": false
   },
   "outputs": [],
   "source": [
    "@time run!(mynetwork)"
   ]
  },
  {
   "cell_type": "code",
   "execution_count": null,
   "metadata": {
    "collapsed": true
   },
   "outputs": [],
   "source": []
  }
 ],
 "metadata": {
  "kernelspec": {
   "display_name": "Julia 0.4.1-pre",
   "language": "julia",
   "name": "julia-0.4"
  },
  "language_info": {
   "file_extension": ".jl",
   "mimetype": "application/julia",
   "name": "julia",
   "version": "0.4.3"
  }
 },
 "nbformat": 4,
 "nbformat_minor": 0
}
