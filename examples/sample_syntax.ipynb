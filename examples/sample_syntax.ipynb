{
 "cells": [
  {
   "cell_type": "markdown",
   "metadata": {},
   "source": [
    "# JNeuron Syntax\n",
    "\n",
    "JNeuron is really just a library of data structures and methods in the Julia language. Consequently, it has all of the same benefits of working with the Julia language, like speed, easy extensibility to other languages, and a syntax familiar to users of other scripting languages like MATLAB or Python.\n",
    "\n",
    "Below we outline some common operations that can be performed in JNeuron, and how they can be easily integrated with other tools in Julia, like plotting or computation."
   ]
  },
  {
   "cell_type": "markdown",
   "metadata": {},
   "source": [
    "## Loading Packages\n",
    "\n",
    "Packages are loaded into the Julia environment with the using keyword. Here we are going to load in JNeuron and PyPlot for making figures."
   ]
  },
  {
   "cell_type": "code",
   "execution_count": null,
   "metadata": {
    "collapsed": false
   },
   "outputs": [],
   "source": [
    "using JNeuron, PyPlot"
   ]
  },
  {
   "cell_type": "markdown",
   "metadata": {},
   "source": [
    "## Loading 3d structures\n",
    "\n",
    "3D imaging reconstructions of neurons can be imported into JNeuron. Right now, Neurolucida (.asc) files are supported, with others soon to come. \n",
    "\n",
    "The input function is used to bring microscopic coordinates into JNeuron. The appropriate method is selected based on the file type. "
   ]
  },
  {
   "cell_type": "code",
   "execution_count": null,
   "metadata": {
    "collapsed": true
   },
   "outputs": [],
   "source": [
    "#Load 3D Neurolucida file\n",
    "myimport=input(\"./data/cell2.asc\");"
   ]
  },
  {
   "cell_type": "markdown",
   "metadata": {},
   "source": [
    "## Manipulating 3D structures\n",
    "\n",
    "By itself, the data structure of myimport is not terribly useful for simulations. It does, however, provide easy access to the 3D points of the neuron. myimport is made up of \"sections,\" or unbranching parts of the neuron, and each section has a field called \"raw\" (from Neuron syntax), that contains all of the 3D points of that section. Each column corresponds to a different dimension. Therefore, we could plot the shape of the cell in the xy plane as follows:"
   ]
  },
  {
   "cell_type": "code",
   "execution_count": null,
   "metadata": {
    "collapsed": false
   },
   "outputs": [],
   "source": [
    "#Plot 3D structure of cell\n",
    "for i=1:length(myimport.sections)\n",
    "    plot(myimport.sections[i].raw[:,1],myimport.sections[i].raw[:,2],color=\"blue\")\n",
    "end"
   ]
  },
  {
   "cell_type": "markdown",
   "metadata": {},
   "source": [
    "## Creating neurons for simulations\n",
    "\n",
    "A \"Neuron\" data structure is the core of JNeuron, and needs to be created from 3D data before running simulations. This is done using the \"instantiate\" method. The neuron that is created by this method, however, is not very useful: it has no compartments and no ion channels. First, the number of compartments should be determined. The easiest way to do this, is to chose the number of compartments per section based on the length constant of a given section. In JNeuron, this can be done with the set_nsegs! function:"
   ]
  },
  {
   "cell_type": "code",
   "execution_count": null,
   "metadata": {
    "collapsed": true
   },
   "outputs": [],
   "source": [
    "#Generate instance of neuron type with appropriate sections from 3D data\n",
    "blank_neuron=instantiate(myimport);\n",
    "\n",
    "#Create segments based on lambda rule\n",
    "set_nsegs!(blank_neuron);"
   ]
  },
  {
   "cell_type": "markdown",
   "metadata": {},
   "source": [
    "## Adding channels to neurons\n",
    "\n",
    "After a neuron is made from 3D data, and has the appropriate number of compartments, ion channels should be added to the compartments. There are a few methods of doing this. For the same ion channels to be present everywhere, an array of ion channels can be passed to the \"add\" function along with the neuron data structure from above. A particular ion channel type is constructed with its default constructor, which takes no arguments, such as HH(), or Passive(). \n",
    "\n",
    "JNeuron also supports having different ion channel types depending on the region of the cell. There are 4 regions of cells: soma, axon, basal dendrites, and apical dendrites. Therefore a 4 dimensional array of arrays of ion channels can be passed to the add function to make a neuron with different ion channels in those different regions"
   ]
  },
  {
   "cell_type": "code",
   "execution_count": null,
   "metadata": {
    "collapsed": true
   },
   "outputs": [],
   "source": [
    "#add Hodgkin-Huxley channels to all segments\n",
    "myneuron1=add(blank_neuron,HH());\n",
    "\n",
    "#add Hodgkin-Huxley and Passive channels to all segments\n",
    "myneuron2=add(blank_neuron,(HH(),Passive()));\n",
    "\n",
    "#add HH and Passive to Soma and Axon, Passive to basal and apical Dendrites\n",
    "myneuron3=add(blank_neuron,(HH(),Passive()),(HH(),Passive()),Passive(),Passive());"
   ]
  },
  {
   "cell_type": "markdown",
   "metadata": {},
   "source": [
    "## Adding components to a network"
   ]
  },
  {
   "cell_type": "markdown",
   "metadata": {},
   "source": [
    "### Neurons"
   ]
  },
  {
   "cell_type": "code",
   "execution_count": null,
   "metadata": {
    "collapsed": true
   },
   "outputs": [],
   "source": [
    "#Create network with neurons and simulation stop time of 100.0 ms\n",
    "mynetwork=Network([myneuron1,myneuron2,myneuron3],100.0)"
   ]
  },
  {
   "cell_type": "markdown",
   "metadata": {},
   "source": [
    "### Extracellular Recording Electrodes"
   ]
  },
  {
   "cell_type": "code",
   "execution_count": null,
   "metadata": {
    "collapsed": true
   },
   "outputs": [],
   "source": [
    "#Create electrode and add it to the network\n",
    "electrode=Extracellular([0.0,0.0,0.0]);\n",
    "add!(mynetwork,electrode);"
   ]
  },
  {
   "cell_type": "markdown",
   "metadata": {},
   "source": [
    "### Intracellular Recording Electrodes"
   ]
  },
  {
   "cell_type": "code",
   "execution_count": null,
   "metadata": {
    "collapsed": false
   },
   "outputs": [],
   "source": [
    "#Create intracellular electrode and add it to the network\n",
    "myintra=Intracellular(1,1,100)\n",
    "add!(mynetwork,myintra);"
   ]
  },
  {
   "cell_type": "markdown",
   "metadata": {},
   "source": [
    "### Intracellular Stimulation"
   ]
  },
  {
   "cell_type": "code",
   "execution_count": null,
   "metadata": {
    "collapsed": true
   },
   "outputs": [],
   "source": [
    "#Create intracellular stimulation and add it to the network\n",
    "mystim=Stim(2.0,1,1,40,1.0,2.0)\n",
    "add!(mynetwork,mystim)"
   ]
  },
  {
   "cell_type": "markdown",
   "metadata": {},
   "source": [
    "## Running a Simulation"
   ]
  },
  {
   "cell_type": "code",
   "execution_count": null,
   "metadata": {
    "collapsed": false
   },
   "outputs": [],
   "source": [
    "@time run!(mynetwork)"
   ]
  },
  {
   "cell_type": "code",
   "execution_count": null,
   "metadata": {
    "collapsed": true
   },
   "outputs": [],
   "source": []
  }
 ],
 "metadata": {
  "kernelspec": {
   "display_name": "Julia 0.4.2-pre",
   "language": "julia",
   "name": "julia-0.4"
  },
  "language_info": {
   "file_extension": ".jl",
   "mimetype": "application/julia",
   "name": "julia",
   "version": "0.4.3"
  }
 },
 "nbformat": 4,
 "nbformat_minor": 0
}
