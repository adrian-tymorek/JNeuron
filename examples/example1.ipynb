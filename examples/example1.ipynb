{
 "cells": [
  {
   "cell_type": "code",
   "execution_count": null,
   "metadata": {
    "collapsed": false
   },
   "outputs": [],
   "source": [
    "using JNeuron#, PyPlot"
   ]
  },
  {
   "cell_type": "code",
   "execution_count": null,
   "metadata": {
    "collapsed": true
   },
   "outputs": [],
   "source": [
    "#Load 3D Neurolucida file\n",
    "myimport=input(\"./cell2.asc\");"
   ]
  },
  {
   "cell_type": "code",
   "execution_count": null,
   "metadata": {
    "collapsed": false
   },
   "outputs": [],
   "source": [
    "#Plot 3D structure of cell\n",
    "for i=1:length(myimport.sections)\n",
    "    plot(myimport.sections[i].raw[:,1],myimport.sections[i].raw[:,2],color=\"blue\")\n",
    "end"
   ]
  },
  {
   "cell_type": "code",
   "execution_count": null,
   "metadata": {
    "collapsed": false
   },
   "outputs": [],
   "source": [
    "#Generate instance of neuron type with appropriate sections from 3D data\n",
    "myneuron=instantiate(myimport);\n",
    "\n",
    "#Create segments based on lambda rule\n",
    "set_nsegs!(myneuron);\n",
    "\n",
    "#add Hodgkin-Huxley channels to all segments\n",
    "myneuron=add(myneuron,[HH(),Passive()]);\n",
    "\n",
    "#Create network with neuron and simulation stop time of 15.0 ms\n",
    "mynetwork=Network(myneuron,100.0);\n",
    "\n",
    "#Create electrode and add it to the network\n",
    "electrode=Extracellular([0.0,0.0,0.0]);\n",
    "add!(mynetwork,electrode);"
   ]
  },
  {
   "cell_type": "code",
   "execution_count": null,
   "metadata": {
    "collapsed": false
   },
   "outputs": [],
   "source": [
    "@time run!(mynetwork)"
   ]
  },
  {
   "cell_type": "code",
   "execution_count": null,
   "metadata": {
    "collapsed": true
   },
   "outputs": [],
   "source": []
  }
 ],
 "metadata": {
  "kernelspec": {
   "display_name": "Julia 0.4.2-pre",
   "language": "julia",
   "name": "julia-0.4"
  },
  "language_info": {
   "file_extension": ".jl",
   "mimetype": "application/julia",
   "name": "julia",
   "version": "0.4.2"
  }
 },
 "nbformat": 4,
 "nbformat_minor": 0
}
