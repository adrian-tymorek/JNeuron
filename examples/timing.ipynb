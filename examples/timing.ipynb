{
 "cells": [
  {
   "cell_type": "code",
   "execution_count": null,
   "metadata": {
    "collapsed": false
   },
   "outputs": [],
   "source": [
    "using JNeuron, PyCall"
   ]
  },
  {
   "cell_type": "markdown",
   "metadata": {},
   "source": [
    "Python script used for timing"
   ]
  },
  {
   "cell_type": "code",
   "execution_count": null,
   "metadata": {
    "collapsed": true
   },
   "outputs": [],
   "source": [
    "pyeval(\n",
    "\n",
    "import neuron\n",
    "\n",
    "neuron.h.load_file('stdlib.hoc')\n",
    "neuron.h.load_file('import3d.hoc')\n",
    "neuron.h.load_file('stdrun.hoc')\n",
    "\n",
    "neuron.h('objref this')\n",
    "\n",
    "Import = neuron.h.Import3d_Neurolucida3()\n",
    "\n",
    "Import.input('./data/cell2.asc')\n",
    "\n",
    "imprt = neuron.h.Import3d_GUI(Import, 0)\n",
    "imprt.instantiate(neuron.h.this)\n",
    "\n",
    "d_lambda=0.1\n",
    "frequency=100\n",
    "\n",
    "for sec in neuron.h.allsec():\n",
    "    sec.nseg = int((sec.L / (d_lambda*neuron.h.lambda_f(frequency,sec=sec)) + .9)/ 2 )*2 + 1\n",
    "\n",
    "neuron.h.define_shape()\n",
    "    \n",
    "for sec in neuron.h.allsec():\n",
    "    sec.insert('hh')\n",
    "    sec.insert('pas')\n",
    "        \n",
    "neuron.h.finitialize()\n",
    "\n",
    "neuron.h.fcurrent()\n",
    "\n",
    "neuron.h.init()\n",
    "\n",
    "neuron.h.tstop=1000.0\n",
    "\n",
    "neuron.h.run()\n",
    "\n",
    "start=time.time(); neuron.h.run(); end=time.time(); print end-start\n",
    ")"
   ]
  },
  {
   "cell_type": "code",
   "execution_count": null,
   "metadata": {
    "collapsed": true
   },
   "outputs": [],
   "source": []
  }
 ],
 "metadata": {
  "kernelspec": {
   "display_name": "Julia 0.4.1",
   "language": "julia",
   "name": "julia-0.4"
  },
  "language_info": {
   "file_extension": ".jl",
   "mimetype": "application/julia",
   "name": "julia",
   "version": "0.4.1"
  }
 },
 "nbformat": 4,
 "nbformat_minor": 0
}
