{
 "cells": [
  {
   "cell_type": "markdown",
   "metadata": {},
   "source": [
    "#Performance of JNeuron\n",
    "\n",
    "This notebook contains scripts for running JNeuron simulations using the IJulia kernel, and measuring the time necessary for each simulation. The simulations are meant to test performance under various conditions such as 1) varying numbers of ion channels, 2) varying number of cells, and 3) parallel performance. Comparable Neuron implementations of the same simulations have been included where possible, and these can be called using IPython.\n",
    "\n",
    "Finding the time to execute a method in Julia can be easily accomplished with the @time macro. Remember that there should be a first \"dummy\" run with this macro to allow for the necessary compilation to let time work."
   ]
  },
  {
   "cell_type": "markdown",
   "metadata": {
    "collapsed": false
   },
   "source": [
    "##Simulation 1: Single neuron\n",
    "\n",
    "The foundation of JNeuron is multicompartmental simulations of single neurons. The following scripts will demonstrate the performance of 1 second simulations of a single 925 compartment neuron with varying types of ion channels in each compartment."
   ]
  },
  {
   "cell_type": "markdown",
   "metadata": {},
   "source": [
    "### Simulation 1a: Single channel"
   ]
  },
  {
   "cell_type": "markdown",
   "metadata": {},
   "source": [
    "#### JNeuron Implementation"
   ]
  },
  {
   "cell_type": "markdown",
   "metadata": {},
   "source": [
    "#### Neuron Implementation"
   ]
  },
  {
   "cell_type": "markdown",
   "metadata": {},
   "source": [
    "### Simulation 1b: Varying Channel Number"
   ]
  },
  {
   "cell_type": "markdown",
   "metadata": {},
   "source": [
    "#### JNeuron Implementation"
   ]
  },
  {
   "cell_type": "code",
   "execution_count": null,
   "metadata": {
    "collapsed": false
   },
   "outputs": [],
   "source": [
    "using JNeuron, PyCall\n",
    "\n",
    "#Load 3D Neurolucida file\n",
    "myimport=input(\"./data/cell2.asc\");\n",
    "\n",
    "#Generate instance of neuron type with appropriate sections from 3D data\n",
    "blank_neuron=instantiate(myimport);\n",
    "\n",
    "#Create segments based on lambda rule\n",
    "set_nsegs!(blank_neuron);\n",
    "\n",
    "#add Hodgkin-Huxley and Passive channels to all segments\n",
    "myneuron=add(blank_neuron,[HH(),Passive()]);\n",
    "\n",
    "#Create network with neurons and simulation stop time of 1000.0 ms\n",
    "mynetwork=Network(myneuron,1000.0);"
   ]
  },
  {
   "cell_type": "code",
   "execution_count": null,
   "metadata": {
    "collapsed": false
   },
   "outputs": [],
   "source": [
    "@time run!(mynetwork)"
   ]
  },
  {
   "cell_type": "markdown",
   "metadata": {},
   "source": [
    "#### Neuron Implementation"
   ]
  },
  {
   "cell_type": "code",
   "execution_count": null,
   "metadata": {
    "collapsed": true
   },
   "outputs": [],
   "source": [
    "import neuron\n",
    "import time\n",
    "\n",
    "neuron.h.load_file('stdlib.hoc')\n",
    "neuron.h.load_file('import3d.hoc')\n",
    "neuron.h.load_file('stdrun.hoc')\n",
    "\n",
    "neuron.h('objref this')\n",
    "\n",
    "Import = neuron.h.Import3d_Neurolucida3()\n",
    "\n",
    "Import.input('./data/cell2.asc')\n",
    "\n",
    "imprt = neuron.h.Import3d_GUI(Import, 0)\n",
    "imprt.instantiate(neuron.h.this)\n",
    "\n",
    "d_lambda=0.1\n",
    "frequency=100\n",
    "\n",
    "for sec in neuron.h.allsec():\n",
    "    sec.nseg = int((sec.L / (d_lambda*neuron.h.lambda_f(frequency,sec=sec)) + .9)/ 2 )*2 + 1\n",
    "\n",
    "neuron.h.define_shape()\n",
    "    \n",
    "for sec in neuron.h.allsec():\n",
    "    sec.insert('hh')\n",
    "    sec.insert('pas')\n",
    "        \n",
    "neuron.h.finitialize()\n",
    "\n",
    "neuron.h.fcurrent()\n",
    "\n",
    "neuron.h.init()\n",
    "\n",
    "neuron.h.tstop=1000.0"
   ]
  },
  {
   "cell_type": "code",
   "execution_count": null,
   "metadata": {
    "collapsed": false
   },
   "outputs": [],
   "source": [
    "start=time.time(); neuron.h.run(); end=time.time(); print end-start"
   ]
  },
  {
   "cell_type": "markdown",
   "metadata": {},
   "source": [
    "## Simulation 2: Intracellular and Extracellular Stimulation / Recording\n",
    "\n",
    "Intracellular Stimulation and Extracellular Stimulation and Recording have been integrated into the main run loop for JNeuron; consequently any one or a combination of these can be quickly implemented with little additional computational cost."
   ]
  },
  {
   "cell_type": "markdown",
   "metadata": {},
   "source": [
    "### Simulation 2a : 100 Independently Firing Pyramidal Cells"
   ]
  },
  {
   "cell_type": "markdown",
   "metadata": {},
   "source": [
    "### Simulation 2b: 100 Cells with intracellular Stimulation"
   ]
  },
  {
   "cell_type": "markdown",
   "metadata": {},
   "source": [
    "### Simulation 2c: 100 Cells with Extracellular Recording"
   ]
  },
  {
   "cell_type": "markdown",
   "metadata": {},
   "source": [
    "### Simulation 2d: 100 Cells with Extracellular Stimulation"
   ]
  },
  {
   "cell_type": "markdown",
   "metadata": {},
   "source": [
    "### Simulation 2e: 100 Cells with Intracellular Stim and Extracellular Recording"
   ]
  },
  {
   "cell_type": "markdown",
   "metadata": {},
   "source": [
    "## Simulation 3: Parallel Computing Performance\n",
    "\n",
    "Julia allows for easy implementation of parallel computing, as well as easy deployment in places with great computational power, like the cloud. Below we demonstrate how JNeuron performance improves with additional cores, both on a local machine and using Amazon Web Services"
   ]
  },
  {
   "cell_type": "markdown",
   "metadata": {},
   "source": [
    "### Simulation 3a: Parallel Local Machine"
   ]
  },
  {
   "cell_type": "markdown",
   "metadata": {},
   "source": [
    "### Simulation 3b: Parallel AWS Instance"
   ]
  },
  {
   "cell_type": "code",
   "execution_count": null,
   "metadata": {
    "collapsed": true
   },
   "outputs": [],
   "source": []
  }
 ],
 "metadata": {
  "kernelspec": {
   "display_name": "Python 2",
   "language": "python",
   "name": "python2"
  },
  "language_info": {
   "codemirror_mode": {
    "name": "ipython",
    "version": 2
   },
   "file_extension": ".py",
   "mimetype": "text/x-python",
   "name": "python",
   "nbconvert_exporter": "python",
   "pygments_lexer": "ipython2",
   "version": "2.7.10"
  }
 },
 "nbformat": 4,
 "nbformat_minor": 0
}
